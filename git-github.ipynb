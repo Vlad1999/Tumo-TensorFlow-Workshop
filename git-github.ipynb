{
 "cells": [
  {
   "cell_type": "markdown",
   "metadata": {
    "deletable": true,
    "editable": true
   },
   "source": [
    "# Step 1: create an account on github\n",
    "\n",
    "www.github.com"
   ]
  },
  {
   "cell_type": "markdown",
   "metadata": {
    "deletable": true,
    "editable": true
   },
   "source": [
    "# Step 2: confirm email registration\n",
    "\n",
    "check your email"
   ]
  },
  {
   "cell_type": "markdown",
   "metadata": {
    "deletable": true,
    "editable": true
   },
   "source": [
    "# Step 3: initialize git repository"
   ]
  },
  {
   "cell_type": "code",
   "execution_count": 1,
   "metadata": {
    "collapsed": false,
    "deletable": true,
    "editable": true
   },
   "outputs": [
    {
     "name": "stdout",
     "output_type": "stream",
     "text": [
      "Initialized empty Git repository in /home/1109200027/.git/\r\n"
     ]
    }
   ],
   "source": [
    "!git init"
   ]
  },
  {
   "cell_type": "markdown",
   "metadata": {
    "deletable": true,
    "editable": true
   },
   "source": [
    "# Step 4: adjust your username and email configuration"
   ]
  },
  {
   "cell_type": "code",
   "execution_count": 2,
   "metadata": {
    "collapsed": true,
    "deletable": true,
    "editable": true
   },
   "outputs": [],
   "source": [
    "!git config --global user.name \"github-Vlad1999\""
   ]
  },
  {
   "cell_type": "code",
   "execution_count": 3,
   "metadata": {
    "collapsed": true,
    "deletable": true,
    "editable": true
   },
   "outputs": [],
   "source": [
    "!git config --global user.email \"your-vladimir.olikyan@tumo.org\""
   ]
  },
  {
   "cell_type": "markdown",
   "metadata": {
    "deletable": true,
    "editable": true
   },
   "source": [
    "# Step 5: create a .gitignore file"
   ]
  },
  {
   "cell_type": "code",
   "execution_count": 4,
   "metadata": {
    "collapsed": false,
    "deletable": true,
    "editable": true
   },
   "outputs": [
    {
     "name": "stdout",
     "output_type": "stream",
     "text": [
      "Writing .gitignore\n"
     ]
    }
   ],
   "source": [
    "%%writefile .gitignore\n",
    ".*\n",
    "!/.gitignore"
   ]
  },
  {
   "cell_type": "markdown",
   "metadata": {
    "deletable": true,
    "editable": true
   },
   "source": [
    "# Step 6: add all files with ipynb and py endings"
   ]
  },
  {
   "cell_type": "code",
   "execution_count": 10,
   "metadata": {
    "collapsed": true,
    "deletable": true,
    "editable": true
   },
   "outputs": [],
   "source": [
    "!git add ./\\*.ipynb"
   ]
  },
  {
   "cell_type": "code",
   "execution_count": 11,
   "metadata": {
    "collapsed": true,
    "deletable": true,
    "editable": true
   },
   "outputs": [],
   "source": [
    "!git add ./\\*.py"
   ]
  },
  {
   "cell_type": "raw",
   "metadata": {
    "deletable": true,
    "editable": true
   },
   "source": [
    "# general command\n",
    "git add ."
   ]
  },
  {
   "cell_type": "markdown",
   "metadata": {
    "deletable": true,
    "editable": true
   },
   "source": [
    "# Step 7: commit added files"
   ]
  },
  {
   "cell_type": "code",
   "execution_count": 8,
   "metadata": {
    "collapsed": false,
    "deletable": true,
    "editable": true
   },
   "outputs": [
    {
     "name": "stdout",
     "output_type": "stream",
     "text": [
      "On branch master\r\n",
      "Your branch is up-to-date with 'origin/master'.\r\n",
      "Changes not staged for commit:\r\n",
      "\t\u001b[31mmodified:   TensorFlow Workshop Lesson2.ipynb\u001b[m\r\n",
      "\t\u001b[31mmodified:   TensorFlow-Examples\u001b[m (modified content, untracked content)\r\n",
      "\t\u001b[31mdeleted:    Untitled.ipynb\u001b[m\r\n",
      "\t\u001b[31mdeleted:    Untitled1.ipynb\u001b[m\r\n",
      "\t\u001b[31mdeleted:    Untitled10.ipynb\u001b[m\r\n",
      "\t\u001b[31mdeleted:    Untitled12.ipynb\u001b[m\r\n",
      "\t\u001b[31mdeleted:    Untitled2.ipynb\u001b[m\r\n",
      "\t\u001b[31mdeleted:    Untitled3.ipynb\u001b[m\r\n",
      "\t\u001b[31mdeleted:    Untitled4.ipynb\u001b[m\r\n",
      "\t\u001b[31mdeleted:    Untitled5.ipynb\u001b[m\r\n",
      "\t\u001b[31mdeleted:    Untitled6.ipynb\u001b[m\r\n",
      "\t\u001b[31mdeleted:    Untitled7.ipynb\u001b[m\r\n",
      "\t\u001b[31mdeleted:    Untitled8.ipynb\u001b[m\r\n",
      "\t\u001b[31mdeleted:    Untitled9.ipynb\u001b[m\r\n",
      "\t\u001b[31mmodified:   git-github.ipynb\u001b[m\r\n",
      "\t\u001b[31mdeleted:    lesson1.py\u001b[m\r\n",
      "\r\n",
      "Untracked files:\r\n",
      "\t\u001b[31mLesson_2.ipynb\u001b[m\r\n",
      "\t\u001b[31mLesson_3.ipynb\u001b[m\r\n",
      "\t\u001b[31mLesson_4.ipynb\u001b[m\r\n",
      "\t\u001b[31mLesson_5.ipynb\u001b[m\r\n",
      "\t\u001b[31mLesson_6.ipynb\u001b[m\r\n",
      "\r\n",
      "no changes added to commit\r\n"
     ]
    }
   ],
   "source": [
    "!git commit -m \"new commit\""
   ]
  },
  {
   "cell_type": "markdown",
   "metadata": {
    "deletable": true,
    "editable": true
   },
   "source": [
    "# Step 8: push your repository to github"
   ]
  },
  {
   "cell_type": "code",
   "execution_count": 15,
   "metadata": {
    "collapsed": false,
    "deletable": true,
    "editable": true
   },
   "outputs": [],
   "source": [
    "!git remote add origin https://github.com/Vlad1999/tumo-tensorflow-workshop.git"
   ]
  },
  {
   "cell_type": "code",
   "execution_count": 14,
   "metadata": {
    "collapsed": true,
    "deletable": true,
    "editable": true
   },
   "outputs": [],
   "source": [
    "!git remote rm origin"
   ]
  },
  {
   "cell_type": "raw",
   "metadata": {
    "deletable": true,
    "editable": true
   },
   "source": [
    "# run this command from terminal\n",
    "git push -u origin master"
   ]
  },
  {
   "cell_type": "code",
   "execution_count": 18,
   "metadata": {
    "collapsed": false,
    "deletable": true,
    "editable": true
   },
   "outputs": [
    {
     "name": "stdout",
     "output_type": "stream",
     "text": [
      "On branch master\r\n",
      "Your branch is up-to-date with 'origin/master'.\r\n",
      "Changes not staged for commit:\r\n",
      "\t\u001b[31mmodified:   Untitled7.ipynb\u001b[m\r\n",
      "\t\u001b[31mmodified:   git-github.ipynb\u001b[m\r\n",
      "\r\n",
      "Untracked files:\r\n",
      "\t\u001b[31mUntitled8.ipynb\u001b[m\r\n",
      "\t\u001b[31mdata.txt\u001b[m\r\n",
      "\t\u001b[31mromeo.txt\u001b[m\r\n",
      "\t\u001b[31mtobe.txt\u001b[m\r\n",
      "\t\u001b[31mtumo-tf/\u001b[m\r\n",
      "\r\n",
      "no changes added to commit\r\n"
     ]
    }
   ],
   "source": [
    "!git commit -m \"second commit\""
   ]
  },
  {
   "cell_type": "code",
   "execution_count": 9,
   "metadata": {
    "collapsed": false,
    "deletable": true,
    "editable": true
   },
   "outputs": [
    {
     "name": "stdout",
     "output_type": "stream",
     "text": [
      "On branch master\r\n",
      "Your branch is up-to-date with 'origin/master'.\r\n",
      "Changes not staged for commit:\r\n",
      "  (use \"git add/rm <file>...\" to update what will be committed)\r\n",
      "  (use \"git checkout -- <file>...\" to discard changes in working directory)\r\n",
      "  (commit or discard the untracked or modified content in submodules)\r\n",
      "\r\n",
      "\t\u001b[31mmodified:   TensorFlow Workshop Lesson2.ipynb\u001b[m\r\n",
      "\t\u001b[31mmodified:   TensorFlow-Examples\u001b[m (modified content, untracked content)\r\n",
      "\t\u001b[31mdeleted:    Untitled.ipynb\u001b[m\r\n",
      "\t\u001b[31mdeleted:    Untitled1.ipynb\u001b[m\r\n",
      "\t\u001b[31mdeleted:    Untitled10.ipynb\u001b[m\r\n",
      "\t\u001b[31mdeleted:    Untitled12.ipynb\u001b[m\r\n",
      "\t\u001b[31mdeleted:    Untitled2.ipynb\u001b[m\r\n",
      "\t\u001b[31mdeleted:    Untitled3.ipynb\u001b[m\r\n",
      "\t\u001b[31mdeleted:    Untitled4.ipynb\u001b[m\r\n",
      "\t\u001b[31mdeleted:    Untitled5.ipynb\u001b[m\r\n",
      "\t\u001b[31mdeleted:    Untitled6.ipynb\u001b[m\r\n",
      "\t\u001b[31mdeleted:    Untitled7.ipynb\u001b[m\r\n",
      "\t\u001b[31mdeleted:    Untitled8.ipynb\u001b[m\r\n",
      "\t\u001b[31mdeleted:    Untitled9.ipynb\u001b[m\r\n",
      "\t\u001b[31mmodified:   git-github.ipynb\u001b[m\r\n",
      "\t\u001b[31mdeleted:    lesson1.py\u001b[m\r\n",
      "\r\n",
      "Untracked files:\r\n",
      "  (use \"git add <file>...\" to include in what will be committed)\r\n",
      "\r\n",
      "\t\u001b[31mLesson_2.ipynb\u001b[m\r\n",
      "\t\u001b[31mLesson_3.ipynb\u001b[m\r\n",
      "\t\u001b[31mLesson_4.ipynb\u001b[m\r\n",
      "\t\u001b[31mLesson_5.ipynb\u001b[m\r\n",
      "\t\u001b[31mLesson_6.ipynb\u001b[m\r\n",
      "\r\n",
      "no changes added to commit (use \"git add\" and/or \"git commit -a\")\r\n"
     ]
    }
   ],
   "source": [
    "!git status"
   ]
  },
  {
   "cell_type": "code",
   "execution_count": 6,
   "metadata": {
    "collapsed": false,
    "deletable": true,
    "editable": true
   },
   "outputs": [
    {
     "name": "stdout",
     "output_type": "stream",
     "text": [
      "On branch master\r\n",
      "Your branch is ahead of 'origin/master' by 1 commit.\r\n",
      "  (use \"git push\" to publish your local commits)\r\n",
      "Changes not staged for commit:\r\n",
      "\t\u001b[31mmodified:   TensorFlow-Examples\u001b[m (modified content, untracked content)\r\n",
      "\r\n",
      "no changes added to commit\r\n"
     ]
    }
   ],
   "source": [
    "!git commit -m \"Lesson_1 commit\""
   ]
  },
  {
   "cell_type": "code",
   "execution_count": 12,
   "metadata": {
    "collapsed": false,
    "deletable": true,
    "editable": true
   },
   "outputs": [],
   "source": [
    "!git add ."
   ]
  },
  {
   "cell_type": "code",
   "execution_count": 13,
   "metadata": {
    "collapsed": false,
    "deletable": true,
    "editable": true
   },
   "outputs": [
    {
     "name": "stdout",
     "output_type": "stream",
     "text": [
      "On branch master\r\n",
      "Your branch is up-to-date with 'origin/master'.\r\n",
      "Changes to be committed:\r\n",
      "  (use \"git reset HEAD <file>...\" to unstage)\r\n",
      "\r\n",
      "\t\u001b[32mrenamed:    Untitled.ipynb -> Lesson_2.ipynb\u001b[m\r\n",
      "\t\u001b[32mrenamed:    Untitled3.ipynb -> Lesson_3.ipynb\u001b[m\r\n",
      "\t\u001b[32mrenamed:    Untitled4.ipynb -> Lesson_4.ipynb\u001b[m\r\n",
      "\t\u001b[32mrenamed:    Untitled9.ipynb -> Lesson_5.ipynb\u001b[m\r\n",
      "\t\u001b[32mrenamed:    Untitled2.ipynb -> Lesson_6.ipynb\u001b[m\r\n",
      "\t\u001b[32mmodified:   TensorFlow Workshop Lesson2.ipynb\u001b[m\r\n",
      "\t\u001b[32mdeleted:    Untitled1.ipynb\u001b[m\r\n",
      "\t\u001b[32mdeleted:    Untitled10.ipynb\u001b[m\r\n",
      "\t\u001b[32mdeleted:    Untitled12.ipynb\u001b[m\r\n",
      "\t\u001b[32mdeleted:    Untitled5.ipynb\u001b[m\r\n",
      "\t\u001b[32mdeleted:    Untitled6.ipynb\u001b[m\r\n",
      "\t\u001b[32mdeleted:    Untitled7.ipynb\u001b[m\r\n",
      "\t\u001b[32mdeleted:    Untitled8.ipynb\u001b[m\r\n",
      "\t\u001b[32mmodified:   git-github.ipynb\u001b[m\r\n",
      "\t\u001b[32mdeleted:    lesson1.py\u001b[m\r\n",
      "\r\n",
      "Changes not staged for commit:\r\n",
      "  (use \"git add <file>...\" to update what will be committed)\r\n",
      "  (use \"git checkout -- <file>...\" to discard changes in working directory)\r\n",
      "  (commit or discard the untracked or modified content in submodules)\r\n",
      "\r\n",
      "\t\u001b[31mmodified:   TensorFlow-Examples\u001b[m (modified content, untracked content)\r\n",
      "\r\n"
     ]
    }
   ],
   "source": [
    "!git status"
   ]
  },
  {
   "cell_type": "code",
   "execution_count": 14,
   "metadata": {
    "collapsed": false,
    "deletable": true,
    "editable": true
   },
   "outputs": [
    {
     "name": "stdout",
     "output_type": "stream",
     "text": [
      "[master fc963c3] new commit\r\n",
      " 15 files changed, 584 insertions(+), 752 deletions(-)\r\n",
      " rename Untitled.ipynb => Lesson_2.ipynb (62%)\r\n",
      " rename Untitled3.ipynb => Lesson_3.ipynb (89%)\r\n",
      " rename Untitled4.ipynb => Lesson_4.ipynb (74%)\r\n",
      " rename Untitled9.ipynb => Lesson_5.ipynb (86%)\r\n",
      " rename Untitled2.ipynb => Lesson_6.ipynb (86%)\r\n",
      " delete mode 100644 Untitled1.ipynb\r\n",
      " delete mode 100644 Untitled10.ipynb\r\n",
      " delete mode 100644 Untitled12.ipynb\r\n",
      " delete mode 100644 Untitled5.ipynb\r\n",
      " delete mode 100644 Untitled6.ipynb\r\n",
      " delete mode 100644 Untitled7.ipynb\r\n",
      " delete mode 100644 Untitled8.ipynb\r\n",
      " delete mode 100644 lesson1.py\r\n"
     ]
    }
   ],
   "source": [
    "!git commit -m \"new commit\""
   ]
  },
  {
   "cell_type": "code",
   "execution_count": null,
   "metadata": {
    "collapsed": true
   },
   "outputs": [],
   "source": []
  }
 ],
 "metadata": {
  "kernelspec": {
   "display_name": "Python 3",
   "language": "python",
   "name": "python3"
  },
  "language_info": {
   "codemirror_mode": {
    "name": "ipython",
    "version": 3
   },
   "file_extension": ".py",
   "mimetype": "text/x-python",
   "name": "python",
   "nbconvert_exporter": "python",
   "pygments_lexer": "ipython3",
   "version": "3.6.0"
  }
 },
 "nbformat": 4,
 "nbformat_minor": 2
}
