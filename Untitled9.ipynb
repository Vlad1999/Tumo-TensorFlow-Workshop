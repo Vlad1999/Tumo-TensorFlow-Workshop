{
 "cells": [
  {
   "cell_type": "code",
   "execution_count": 1,
   "metadata": {
    "collapsed": true,
    "deletable": true,
    "editable": true
   },
   "outputs": [],
   "source": [
    "def salute(name, greeting='Hallo', punct='!'):\n",
    "    return greeting + ' ' + name + punct"
   ]
  },
  {
   "cell_type": "code",
   "execution_count": 2,
   "metadata": {
    "collapsed": false
   },
   "outputs": [
    {
     "data": {
      "text/plain": [
       "'Hallo name!'"
      ]
     },
     "execution_count": 2,
     "metadata": {},
     "output_type": "execute_result"
    }
   ],
   "source": [
    "salute('name')"
   ]
  },
  {
   "cell_type": "code",
   "execution_count": 6,
   "metadata": {
    "collapsed": false
   },
   "outputs": [
    {
     "data": {
      "text/plain": [
       "'hi name!'"
      ]
     },
     "execution_count": 6,
     "metadata": {},
     "output_type": "execute_result"
    }
   ],
   "source": [
    "salute('name', greeting='hi')"
   ]
  },
  {
   "cell_type": "code",
   "execution_count": 7,
   "metadata": {
    "collapsed": false
   },
   "outputs": [
    {
     "data": {
      "text/plain": [
       "'Hallo name!'"
      ]
     },
     "execution_count": 7,
     "metadata": {},
     "output_type": "execute_result"
    }
   ],
   "source": [
    "salute('name')"
   ]
  },
  {
   "cell_type": "code",
   "execution_count": 8,
   "metadata": {
    "collapsed": true
   },
   "outputs": [],
   "source": [
    "def f(a, b):\n",
    "        print(a, b)\n"
   ]
  },
  {
   "cell_type": "code",
   "execution_count": 9,
   "metadata": {
    "collapsed": false
   },
   "outputs": [
    {
     "name": "stdout",
     "output_type": "stream",
     "text": [
      "a b\n"
     ]
    }
   ],
   "source": [
    "f('a', 'b')"
   ]
  },
  {
   "cell_type": "code",
   "execution_count": 16,
   "metadata": {
    "collapsed": true
   },
   "outputs": [],
   "source": [
    "def f(*args):\n",
    "    print(\"args is \", args)\n",
    "    print(type(args))"
   ]
  },
  {
   "cell_type": "code",
   "execution_count": 21,
   "metadata": {
    "collapsed": false
   },
   "outputs": [
    {
     "name": "stdout",
     "output_type": "stream",
     "text": [
      "args is  ('arg',)\n",
      "<class 'tuple'>\n"
     ]
    }
   ],
   "source": [
    "f(\"arg\")"
   ]
  },
  {
   "cell_type": "code",
   "execution_count": 19,
   "metadata": {
    "collapsed": false
   },
   "outputs": [
    {
     "name": "stdout",
     "output_type": "stream",
     "text": [
      "args is  (1, 2, 3)\n",
      "<class 'tuple'>\n"
     ]
    }
   ],
   "source": [
    "f(1,2,3)"
   ]
  },
  {
   "cell_type": "code",
   "execution_count": 24,
   "metadata": {
    "collapsed": false
   },
   "outputs": [],
   "source": [
    "def s(*args):\n",
    "    print(sum(args))"
   ]
  },
  {
   "cell_type": "code",
   "execution_count": 39,
   "metadata": {
    "collapsed": false
   },
   "outputs": [],
   "source": [
    "def s1(*args, power = 2):\n",
    "    print(sum(args)**power)"
   ]
  },
  {
   "cell_type": "code",
   "execution_count": 40,
   "metadata": {
    "collapsed": false
   },
   "outputs": [
    {
     "name": "stdout",
     "output_type": "stream",
     "text": [
      "9\n"
     ]
    }
   ],
   "source": [
    "s1(1,2)"
   ]
  },
  {
   "cell_type": "code",
   "execution_count": 34,
   "metadata": {
    "collapsed": false
   },
   "outputs": [],
   "source": [
    "def s2(*args, power = 3):\n",
    "    print(sum(args)**power)"
   ]
  },
  {
   "cell_type": "code",
   "execution_count": 36,
   "metadata": {
    "collapsed": false
   },
   "outputs": [
    {
     "name": "stdout",
     "output_type": "stream",
     "text": [
      "27\n"
     ]
    }
   ],
   "source": [
    "s2(1,2)"
   ]
  },
  {
   "cell_type": "code",
   "execution_count": 49,
   "metadata": {
    "collapsed": false
   },
   "outputs": [
    {
     "name": "stdout",
     "output_type": "stream",
     "text": [
      "['to', 'be', 'or', 'not', 'to', 'be']\n"
     ]
    },
    {
     "data": {
      "text/plain": [
       "'to be or not to be'"
      ]
     },
     "execution_count": 49,
     "metadata": {},
     "output_type": "execute_result"
    }
   ],
   "source": [
    "s = 'to be or not to be'\n",
    "words = s.split(' ')\n",
    "print(words)\n",
    "\" \".join(words)"
   ]
  },
  {
   "cell_type": "code",
   "execution_count": 50,
   "metadata": {
    "collapsed": true
   },
   "outputs": [],
   "source": [
    "u = [1,2,3]\n",
    "v = ('a', 'b', 'c')\n",
    "w = [4,5,6]"
   ]
  },
  {
   "cell_type": "code",
   "execution_count": 51,
   "metadata": {
    "collapsed": true
   },
   "outputs": [],
   "source": [
    "a,b,c = v"
   ]
  },
  {
   "cell_type": "code",
   "execution_count": 52,
   "metadata": {
    "collapsed": false
   },
   "outputs": [
    {
     "data": {
      "text/plain": [
       "'a'"
      ]
     },
     "execution_count": 52,
     "metadata": {},
     "output_type": "execute_result"
    }
   ],
   "source": [
    "a"
   ]
  },
  {
   "cell_type": "code",
   "execution_count": 53,
   "metadata": {
    "collapsed": false
   },
   "outputs": [
    {
     "data": {
      "text/plain": [
       "'b'"
      ]
     },
     "execution_count": 53,
     "metadata": {},
     "output_type": "execute_result"
    }
   ],
   "source": [
    "b"
   ]
  },
  {
   "cell_type": "code",
   "execution_count": 54,
   "metadata": {
    "collapsed": false
   },
   "outputs": [
    {
     "data": {
      "text/plain": [
       "'c'"
      ]
     },
     "execution_count": 54,
     "metadata": {},
     "output_type": "execute_result"
    }
   ],
   "source": [
    "c"
   ]
  },
  {
   "cell_type": "code",
   "execution_count": 58,
   "metadata": {
    "collapsed": false
   },
   "outputs": [
    {
     "data": {
      "text/plain": [
       "{1: 'a', 2: 'b', 3: 'c'}"
      ]
     },
     "execution_count": 58,
     "metadata": {},
     "output_type": "execute_result"
    }
   ],
   "source": [
    "dict(zip(u,v))"
   ]
  },
  {
   "cell_type": "code",
   "execution_count": 62,
   "metadata": {
    "collapsed": false
   },
   "outputs": [
    {
     "name": "stdout",
     "output_type": "stream",
     "text": [
      "total 340\n",
      "drwxr-x--- 10 1109200027 1109200027  4096 Mar 25 19:21 .\n",
      "drwxr-xr-x 41 root       root        4096 Mar 25 14:53 ..\n",
      "-rw-r--r--  1 1109200027 1109200027   220 Sep  1  2015 .bash_logout\n",
      "-rw-r--r--  1 1109200027 1109200027  3771 Sep  1  2015 .bashrc\n",
      "drwxr-xr-x  3 1109200027 1109200027  4096 Mar 24 19:35 .cache\n",
      "drwxr-xr-x  3 1109200027 1109200027  4096 Mar 24 19:35 .config\n",
      "-rw-r--r--  1 1109200027 1109200027    87 Mar 22 19:27 data.txt\n",
      "-rw-r--r--  1 1109200027 1109200027  4594 Mar 25 18:06 downloader.ipynb\n",
      "drwxr-xr-x  8 1109200027 1109200027  4096 Mar 24 19:00 .git\n",
      "-rw-r--r--  1 1109200027 1109200027    71 Mar 24 18:27 .gitconfig\n",
      "-rw-r--r--  1 1109200027 1109200027  7724 Mar 24 18:58 git-github.ipynb\n",
      "-rw-r--r--  1 1109200027 1109200027    15 Mar 24 18:29 .gitignore\n",
      "drwxr-xr-x  2 1109200027 1109200027  4096 Mar 25 18:07 .ipynb_checkpoints\n",
      "drwxr-xr-x  5 1109200027 1109200027  4096 Mar 21 18:30 .ipython\n",
      "drwxr-xr-x  2 1109200027 1109200027  4096 Mar 22 18:05 .jupyter\n",
      "-rw-r--r--  1 1109200027 1109200027 51114 Mar 21 19:56 Lesson_1.ipynb\n",
      "-rw-r--r--  1 1109200027 1109200027    35 Mar 21 18:27 lesson1.py\n",
      "drwx------  3 1109200027 1109200027  4096 Mar 21 18:10 .local\n",
      "-rw-r--r--  1 1109200027 1109200027 91337 Mar 25 18:17 numpy-tutorial-solved.ipynb\n",
      "-rw-r--r--  1 1109200027 1109200027   655 Jun 24  2016 .profile\n",
      "-rw-------  1 1109200027 1109200027     6 Mar 21 21:52 .python_history\n",
      "-rw-r--r--  1 1109200027 1109200027  8864 Mar 23 19:42 romeo.txt\n",
      "drwx------  2 1109200027 1109200027  4096 Mar 24 18:38 .ssh\n",
      "-rw-r--r--  1 1109200027 1109200027    18 Mar 23 18:33 tobe.txt\n",
      "-rw-r--r--  1 1109200027 1109200027  1579 Mar 25 18:05 Untitled10.ipynb\n",
      "-rw-r--r--  1 1109200027 1109200027    72 Mar 22 18:28 Untitled1.ipynb\n",
      "-rw-r--r--  1 1109200027 1109200027 18048 Mar 22 19:28 Untitled2.ipynb\n",
      "-rw-r--r--  1 1109200027 1109200027 12187 Mar 22 19:56 Untitled3.ipynb\n",
      "-rw-r--r--  1 1109200027 1109200027 11158 Mar 23 19:57 Untitled4.ipynb\n",
      "-rw-r--r--  1 1109200027 1109200027  1507 Mar 24 18:15 Untitled5.ipynb\n",
      "-rw-r--r--  1 1109200027 1109200027    72 Mar 24 18:15 Untitled6.ipynb\n",
      "-rw-r--r--  1 1109200027 1109200027  5911 Mar 24 18:55 Untitled7.ipynb\n",
      "-rw-r--r--  1 1109200027 1109200027  2565 Mar 24 18:57 Untitled8.ipynb\n",
      "-rw-r--r--  1 1109200027 1109200027  6591 Mar 25 19:21 Untitled9.ipynb\n",
      "-rw-r--r--  1 1109200027 1109200027  6102 Mar 22 18:27 Untitled.ipynb\n",
      "-rw-r--r--  1 1109200027 1109200027   217 Mar 25 18:05 .wget-hsts\n"
     ]
    }
   ],
   "source": [
    "%%bash\n",
    "ls -la"
   ]
  },
  {
   "cell_type": "code",
   "execution_count": null,
   "metadata": {
    "collapsed": true
   },
   "outputs": [],
   "source": []
  }
 ],
 "metadata": {
  "kernelspec": {
   "display_name": "Python 3",
   "language": "python",
   "name": "python3"
  },
  "language_info": {
   "codemirror_mode": {
    "name": "ipython",
    "version": 3
   },
   "file_extension": ".py",
   "mimetype": "text/x-python",
   "name": "python",
   "nbconvert_exporter": "python",
   "pygments_lexer": "ipython3",
   "version": "3.6.0"
  }
 },
 "nbformat": 4,
 "nbformat_minor": 2
}
